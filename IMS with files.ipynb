{
 "cells": [
  {
   "cell_type": "code",
   "execution_count": 1,
   "id": "94d70ebe",
   "metadata": {},
   "outputs": [],
   "source": [
    "fd=open(\"Inventory.txt\",'w')\n",
    "\n",
    "fd.close()"
   ]
  },
  {
   "cell_type": "markdown",
   "id": "1e4f44bd",
   "metadata": {},
   "source": [
    "## Product Details\n",
    "\n",
    "1. Product ID\n",
    "2. Name of the Product\n",
    "3. Price of the Product\n",
    "4. Quantity"
   ]
  },
  {
   "cell_type": "code",
   "execution_count": 6,
   "id": "443389b2",
   "metadata": {},
   "outputs": [],
   "source": [
    "fd=open(\"Inventory.txt\",'r')\n",
    "txt=fd.read()\n",
    "\n",
    "fd.close()"
   ]
  },
  {
   "cell_type": "code",
   "execution_count": 7,
   "id": "6160a9e5",
   "metadata": {},
   "outputs": [
    {
     "data": {
      "text/plain": [
       "'1,5 Star, 5, 100\\n2, Milky Bar, 5, 100\\n3,Cake,300,5\\n4, Candy,1,100'"
      ]
     },
     "execution_count": 7,
     "metadata": {},
     "output_type": "execute_result"
    }
   ],
   "source": [
    "txt"
   ]
  },
  {
   "cell_type": "code",
   "execution_count": 10,
   "id": "66290397",
   "metadata": {},
   "outputs": [
    {
     "data": {
      "text/plain": [
       "4"
      ]
     },
     "execution_count": 10,
     "metadata": {},
     "output_type": "execute_result"
    }
   ],
   "source": [
    "len(txt.split(\"\\n\"))"
   ]
  },
  {
   "cell_type": "code",
   "execution_count": 11,
   "id": "7c76753c",
   "metadata": {},
   "outputs": [],
   "source": [
    "fd=open(\"Inventory.txt\",'r')\n",
    "products=fd.read().split(\"\\n\")\n",
    "fd.close()"
   ]
  },
  {
   "cell_type": "code",
   "execution_count": 12,
   "id": "b06821cb",
   "metadata": {},
   "outputs": [
    {
     "data": {
      "text/plain": [
       "['1,5 Star, 5, 100', '2, Milky Bar, 5, 100', '3,Cake,300,5', '4, Candy,1,100']"
      ]
     },
     "execution_count": 12,
     "metadata": {},
     "output_type": "execute_result"
    }
   ],
   "source": [
    "products"
   ]
  },
  {
   "cell_type": "code",
   "execution_count": 13,
   "id": "34310c14",
   "metadata": {},
   "outputs": [
    {
     "name": "stdout",
     "output_type": "stream",
     "text": [
      "1,5 Star, 5, 100\n",
      "2, Milky Bar, 5, 100\n",
      "3,Cake,300,5\n",
      "4, Candy,1,100\n"
     ]
    }
   ],
   "source": [
    "for product in products:\n",
    "    print(product)"
   ]
  },
  {
   "cell_type": "code",
   "execution_count": 14,
   "id": "f12ce57e",
   "metadata": {},
   "outputs": [
    {
     "name": "stdout",
     "output_type": "stream",
     "text": [
      "['1', '5 Star', ' 5', ' 100']\n",
      "['2', ' Milky Bar', ' 5', ' 100']\n",
      "['3', 'Cake', '300', '5']\n",
      "['4', ' Candy', '1', '100']\n"
     ]
    }
   ],
   "source": [
    "for product in products:\n",
    "    print(product.split(\",\"))"
   ]
  },
  {
   "cell_type": "code",
   "execution_count": 17,
   "id": "1f6bc70f",
   "metadata": {},
   "outputs": [
    {
     "name": "stdout",
     "output_type": "stream",
     "text": [
      "Enter the product id:6\n"
     ]
    }
   ],
   "source": [
    "ui_product_id=input(\"Enter the product id:\")\n",
    "\n",
    "for product in products:\n",
    "    if(product.split(\",\")[0]==ui_product_id):\n",
    "        print(product)"
   ]
  },
  {
   "cell_type": "code",
   "execution_count": null,
   "id": "1eb86c9d",
   "metadata": {},
   "outputs": [],
   "source": [
    "ui_product_id=input(\"Enter the product id:\")\n",
    "ui_product_quantity=input(\"Enter the product quantity:\")\n",
    "\n",
    "for product in products:\n",
    "    product_details=product.split(\",\")\n",
    "    if(product_details[0]==ui_product_id):\n",
    "        print(\"Product Name:\",product_details[1])\n",
    "        print(\"Product Price:\",product_details[2])"
   ]
  }
 ],
 "metadata": {
  "kernelspec": {
   "display_name": "Python 3 (ipykernel)",
   "language": "python",
   "name": "python3"
  },
  "language_info": {
   "codemirror_mode": {
    "name": "ipython",
    "version": 3
   },
   "file_extension": ".py",
   "mimetype": "text/x-python",
   "name": "python",
   "nbconvert_exporter": "python",
   "pygments_lexer": "ipython3",
   "version": "3.9.7"
  }
 },
 "nbformat": 4,
 "nbformat_minor": 5
}
